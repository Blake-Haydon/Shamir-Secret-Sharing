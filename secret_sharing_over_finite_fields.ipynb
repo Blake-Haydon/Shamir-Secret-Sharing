{
 "cells": [
  {
   "cell_type": "code",
   "execution_count": 126,
   "metadata": {},
   "outputs": [],
   "source": [
    "import galois\n",
    "import numpy as np\n",
    "import matplotlib.pyplot as plt"
   ]
  },
  {
   "cell_type": "code",
   "execution_count": 127,
   "metadata": {},
   "outputs": [],
   "source": [
    "####### CONSTANTS #######\n",
    "\n",
    "# Generate a finite field of 2**32 elements (essentially 32 bit ints)\n",
    "GF = galois.GF(2**32, display='int')\n",
    "\n",
    "# Inputs to the secret sharing scheme\n",
    "SECRET_NUMBER = GF(123456789)\n",
    "NUM_SHARES = 5\n",
    "NUM_THRESHOLD = 3"
   ]
  },
  {
   "cell_type": "code",
   "execution_count": 128,
   "metadata": {},
   "outputs": [
    {
     "data": {
      "image/png": "[encoded data removed]",
      "text/plain": [
       "<Figure size 432x288 with 1 Axes>"
      ]
     },
     "metadata": {
      "needs_background": "light"
     },
     "output_type": "display_data"
    }
   ],
   "source": [
    "def gen_shares(n: int, k: int, secret: galois.FieldArray):\n",
    "    \"\"\"\n",
    "    Generate n shares of the secret, where k shares are needed to reconstruct the secret.\n",
    "    \"\"\"\n",
    "\n",
    "    # Generate a random polynomial of degree k-1\n",
    "    coefficients = GF.Random(k)\n",
    "\n",
    "    # Set the constant term to the secret\n",
    "    coefficients[-1] = secret\n",
    "\n",
    "    # Convert coefficients to a polynomial object\n",
    "    poly = galois.Poly(coefficients)\n",
    "\n",
    "    # Evaluate the polynomial at n points\n",
    "    x = GF.Range(start=1, stop=n+1)\n",
    "    y = poly(x)\n",
    "    \n",
    "    # Return the shares\n",
    "    return list(zip(x, y))\n",
    "\n",
    "# Plot the shares \n",
    "shares = gen_shares(n=NUM_SHARES, k=NUM_THRESHOLD, secret=SECRET_NUMBER)\n",
    "x, y = zip(*shares)\n",
    "plt.scatter(x, y)\n",
    "plt.show()"
   ]
  },
  {
   "cell_type": "code",
   "execution_count": 129,
   "metadata": {},
   "outputs": [
    {
     "name": "stdout",
     "output_type": "stream",
     "text": [
      "Reconstructed Secret: 123456789\n"
     ]
    }
   ],
   "source": [
    "def reconstruct_secret(shares):\n",
    "    \"\"\"\n",
    "    Reconstruct the secret from the shares.\n",
    "    \"\"\"\n",
    "    \n",
    "    # Combine the x and y coordinates of the shares\n",
    "    x, y = zip(*shares)\n",
    "    \n",
    "    # Compute the Lagrange polynomial\n",
    "    poly = galois.lagrange_poly(GF(x), GF(y))\n",
    "\n",
    "    # Evaluate the polynomial at x=0 (where the secret is located)\n",
    "    return poly(0)\n",
    "\n",
    "# Pick 3 random shares to reconstruct the secret\n",
    "s0 = shares[0]\n",
    "s1 = shares[2]\n",
    "s2 = shares[4]\n",
    "\n",
    "# Reconstruct the secret from the shares\n",
    "rec_secret = reconstruct_secret([s0, s1, s2])\n",
    "print(f\"Reconstructed Secret: {rec_secret}\")\n",
    "\n",
    "# Verify that the reconstructed secret is the same as the original secret\n",
    "assert rec_secret == SECRET_NUMBER"
   ]
  }
 ],
 "metadata": {
  "kernelspec": {
   "display_name": "Python 3",
   "language": "python",
   "name": "python3"
  },
  "language_info": {
   "codemirror_mode": {
    "name": "ipython",
    "version": 3
   },
   "file_extension": ".py",
   "mimetype": "text/x-python",
   "name": "python",
   "nbconvert_exporter": "python",
   "pygments_lexer": "ipython3",
   "version": "3.10.4 (main, Mar 25 2022, 14:53:18) [Clang 13.1.6 (clang-1316.0.21.2)]"
  },
  "orig_nbformat": 4,
  "vscode": {
   "interpreter": {
    "hash": "2ab98c4b59af728aa8bd9922870b996a7fc5861c87b81242319b92eec59b5fef"
   }
  }
 },
 "nbformat": 4,
 "nbformat_minor": 2
}
